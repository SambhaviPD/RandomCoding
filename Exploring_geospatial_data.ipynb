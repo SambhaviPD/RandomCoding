{
  "nbformat": 4,
  "nbformat_minor": 0,
  "metadata": {
    "colab": {
      "name": "Exploring geospatial data.ipynb",
      "provenance": [],
      "collapsed_sections": [],
      "authorship_tag": "ABX9TyM3CNOfirkrUHWJIglJmVT1",
      "include_colab_link": true
    },
    "kernelspec": {
      "name": "python3",
      "display_name": "Python 3"
    },
    "language_info": {
      "name": "python"
    }
  },
  "cells": [
    {
      "cell_type": "markdown",
      "metadata": {
        "id": "view-in-github",
        "colab_type": "text"
      },
      "source": [
        "<a href=\"https://colab.research.google.com/github/SambhaviPD/RandomCoding/blob/master/Exploring_geospatial_data.ipynb\" target=\"_parent\"><img src=\"https://colab.research.google.com/assets/colab-badge.svg\" alt=\"Open In Colab\"/></a>"
      ]
    },
    {
      "cell_type": "code",
      "metadata": {
        "colab": {
          "base_uri": "https://localhost:8080/"
        },
        "id": "EgpV7ptPxXhy",
        "outputId": "32ad26ed-da19-45f5-c592-1c5603677a48"
      },
      "source": [
        "!pip install sodapy"
      ],
      "execution_count": 8,
      "outputs": [
        {
          "output_type": "stream",
          "name": "stdout",
          "text": [
            "Collecting sodapy\n",
            "  Downloading sodapy-2.1.0-py2.py3-none-any.whl (14 kB)\n",
            "Requirement already satisfied: requests>=2.20.0 in /usr/local/lib/python3.7/dist-packages (from sodapy) (2.23.0)\n",
            "Requirement already satisfied: urllib3!=1.25.0,!=1.25.1,<1.26,>=1.21.1 in /usr/local/lib/python3.7/dist-packages (from requests>=2.20.0->sodapy) (1.24.3)\n",
            "Requirement already satisfied: certifi>=2017.4.17 in /usr/local/lib/python3.7/dist-packages (from requests>=2.20.0->sodapy) (2021.5.30)\n",
            "Requirement already satisfied: idna<3,>=2.5 in /usr/local/lib/python3.7/dist-packages (from requests>=2.20.0->sodapy) (2.10)\n",
            "Requirement already satisfied: chardet<4,>=3.0.2 in /usr/local/lib/python3.7/dist-packages (from requests>=2.20.0->sodapy) (3.0.4)\n",
            "Installing collected packages: sodapy\n",
            "Successfully installed sodapy-2.1.0\n"
          ]
        }
      ]
    },
    {
      "cell_type": "code",
      "metadata": {
        "id": "03BZk3Mt5Yhy"
      },
      "source": [
        ""
      ],
      "execution_count": null,
      "outputs": []
    },
    {
      "cell_type": "code",
      "metadata": {
        "id": "54-7yfn7wbIh"
      },
      "source": [
        "#!/usr/bin/env python\n",
        "\n",
        "# make sure to install these packages before running:\n",
        "# pip install pandas\n",
        "# pip install sodapy\n",
        "\n",
        "import pandas as pd\n",
        "from sodapy import Socrata\n",
        "\n",
        "# Unauthenticated client only works with public data sets. Note 'None'\n",
        "# in place of application token, and no username or password:\n",
        "#client = Socrata(\"data.sfgov.org\", None)\n",
        "\n",
        "# Example authenticated client (needed for non-public datasets):\n",
        "# http://dev.socrata.com/foundry/data.winnipeg.ca/gp3k-am4u\n",
        "# Every Winnipeg Transit bus is equipped with an on-board computer \n",
        "# and GPS that logs whether or not it is on time as it leaves a bus stop.\n",
        "client = Socrata(\"data.winnipeg.ca\",\n",
        "                  \"yourapitokenhere\",\n",
        "                  username=\"youremailhere\",\n",
        "                  password=\"yourpasswordhere\")\n",
        "\n",
        "# First 2000 results, returned as JSON from API / converted to Python list of\n",
        "# dictionaries by sodapy.\n",
        "results = client.get(\"gp3k-am4u\", limit=100)\n",
        "\n",
        "# Convert to pandas DataFrame\n",
        "results_df = pd.DataFrame.from_records(results)\n"
      ],
      "execution_count": 68,
      "outputs": []
    },
    {
      "cell_type": "code",
      "metadata": {
        "colab": {
          "base_uri": "https://localhost:8080/",
          "height": 791
        },
        "id": "f7lhMCZSxmlp",
        "outputId": "29a9b5ef-8a0c-4518-b7d4-ec8a94c43d61"
      },
      "source": [
        "results_df"
      ],
      "execution_count": 69,
      "outputs": [
        {
          "output_type": "execute_result",
          "data": {
            "text/html": [
              "<div>\n",
              "<style scoped>\n",
              "    .dataframe tbody tr th:only-of-type {\n",
              "        vertical-align: middle;\n",
              "    }\n",
              "\n",
              "    .dataframe tbody tr th {\n",
              "        vertical-align: top;\n",
              "    }\n",
              "\n",
              "    .dataframe thead th {\n",
              "        text-align: right;\n",
              "    }\n",
              "</style>\n",
              "<table border=\"1\" class=\"dataframe\">\n",
              "  <thead>\n",
              "    <tr style=\"text-align: right;\">\n",
              "      <th></th>\n",
              "      <th>row_id</th>\n",
              "      <th>stop_number</th>\n",
              "      <th>route_number</th>\n",
              "      <th>route_name</th>\n",
              "      <th>route_destination</th>\n",
              "      <th>day_type</th>\n",
              "      <th>scheduled_time</th>\n",
              "      <th>deviation</th>\n",
              "      <th>location</th>\n",
              "      <th>:@computed_region_6rfj_69jf</th>\n",
              "      <th>:@computed_region_38v8_cedi</th>\n",
              "    </tr>\n",
              "  </thead>\n",
              "  <tbody>\n",
              "    <tr>\n",
              "      <th>0</th>\n",
              "      <td>857444741</td>\n",
              "      <td>10355</td>\n",
              "      <td>45</td>\n",
              "      <td>Talbot</td>\n",
              "      <td>Kildonan Place</td>\n",
              "      <td>Saturday</td>\n",
              "      <td>2021-09-11T07:43:39.000</td>\n",
              "      <td>-185</td>\n",
              "      <td>{'type': 'Point', 'coordinates': [-97.12005859...</td>\n",
              "      <td>12</td>\n",
              "      <td>180</td>\n",
              "    </tr>\n",
              "    <tr>\n",
              "      <th>1</th>\n",
              "      <td>857444743</td>\n",
              "      <td>10354</td>\n",
              "      <td>45</td>\n",
              "      <td>Talbot</td>\n",
              "      <td>Kildonan Place</td>\n",
              "      <td>Saturday</td>\n",
              "      <td>2021-09-11T07:44:10.000</td>\n",
              "      <td>-170</td>\n",
              "      <td>{'type': 'Point', 'coordinates': [-97.11703784...</td>\n",
              "      <td>12</td>\n",
              "      <td>180</td>\n",
              "    </tr>\n",
              "    <tr>\n",
              "      <th>2</th>\n",
              "      <td>857444745</td>\n",
              "      <td>10351</td>\n",
              "      <td>45</td>\n",
              "      <td>Talbot</td>\n",
              "      <td>Kildonan Place</td>\n",
              "      <td>Saturday</td>\n",
              "      <td>2021-09-11T07:44:28.000</td>\n",
              "      <td>-163</td>\n",
              "      <td>{'type': 'Point', 'coordinates': [-97.11540064...</td>\n",
              "      <td>12</td>\n",
              "      <td>180</td>\n",
              "    </tr>\n",
              "    <tr>\n",
              "      <th>3</th>\n",
              "      <td>857444747</td>\n",
              "      <td>30101</td>\n",
              "      <td>45</td>\n",
              "      <td>Talbot</td>\n",
              "      <td>Kildonan Place</td>\n",
              "      <td>Saturday</td>\n",
              "      <td>2021-09-11T07:44:53.000</td>\n",
              "      <td>-152</td>\n",
              "      <td>{'type': 'Point', 'coordinates': [-97.11465630...</td>\n",
              "      <td>4</td>\n",
              "      <td>85</td>\n",
              "    </tr>\n",
              "    <tr>\n",
              "      <th>4</th>\n",
              "      <td>857444749</td>\n",
              "      <td>40465</td>\n",
              "      <td>45</td>\n",
              "      <td>Talbot</td>\n",
              "      <td>Kildonan Place</td>\n",
              "      <td>Saturday</td>\n",
              "      <td>2021-09-11T07:46:35.000</td>\n",
              "      <td>-218</td>\n",
              "      <td>{'type': 'Point', 'coordinates': [-97.11434735...</td>\n",
              "      <td>1</td>\n",
              "      <td>197</td>\n",
              "    </tr>\n",
              "    <tr>\n",
              "      <th>...</th>\n",
              "      <td>...</td>\n",
              "      <td>...</td>\n",
              "      <td>...</td>\n",
              "      <td>...</td>\n",
              "      <td>...</td>\n",
              "      <td>...</td>\n",
              "      <td>...</td>\n",
              "      <td>...</td>\n",
              "      <td>...</td>\n",
              "      <td>...</td>\n",
              "      <td>...</td>\n",
              "    </tr>\n",
              "    <tr>\n",
              "      <th>95</th>\n",
              "      <td>857444938</td>\n",
              "      <td>40465</td>\n",
              "      <td>45</td>\n",
              "      <td>Talbot</td>\n",
              "      <td>Kildonan Place</td>\n",
              "      <td>Saturday</td>\n",
              "      <td>2021-09-11T09:05:35.000</td>\n",
              "      <td>-169</td>\n",
              "      <td>{'type': 'Point', 'coordinates': [-97.11434735...</td>\n",
              "      <td>1</td>\n",
              "      <td>197</td>\n",
              "    </tr>\n",
              "    <tr>\n",
              "      <th>96</th>\n",
              "      <td>857444940</td>\n",
              "      <td>40467</td>\n",
              "      <td>45</td>\n",
              "      <td>Talbot</td>\n",
              "      <td>Kildonan Place</td>\n",
              "      <td>Saturday</td>\n",
              "      <td>2021-09-11T09:06:19.000</td>\n",
              "      <td>-154</td>\n",
              "      <td>{'type': 'Point', 'coordinates': [-97.11064201...</td>\n",
              "      <td>1</td>\n",
              "      <td>197</td>\n",
              "    </tr>\n",
              "    <tr>\n",
              "      <th>97</th>\n",
              "      <td>857444942</td>\n",
              "      <td>40461</td>\n",
              "      <td>45</td>\n",
              "      <td>Talbot</td>\n",
              "      <td>Kildonan Place</td>\n",
              "      <td>Saturday</td>\n",
              "      <td>2021-09-11T09:06:51.000</td>\n",
              "      <td>-164</td>\n",
              "      <td>{'type': 'Point', 'coordinates': [-97.10754347...</td>\n",
              "      <td>1</td>\n",
              "      <td>197</td>\n",
              "    </tr>\n",
              "    <tr>\n",
              "      <th>98</th>\n",
              "      <td>857444944</td>\n",
              "      <td>40458</td>\n",
              "      <td>45</td>\n",
              "      <td>Talbot</td>\n",
              "      <td>Kildonan Place</td>\n",
              "      <td>Saturday</td>\n",
              "      <td>2021-09-11T09:07:27.000</td>\n",
              "      <td>-156</td>\n",
              "      <td>{'type': 'Point', 'coordinates': [-97.10407202...</td>\n",
              "      <td>1</td>\n",
              "      <td>197</td>\n",
              "    </tr>\n",
              "    <tr>\n",
              "      <th>99</th>\n",
              "      <td>857444946</td>\n",
              "      <td>40457</td>\n",
              "      <td>45</td>\n",
              "      <td>Talbot</td>\n",
              "      <td>Kildonan Place</td>\n",
              "      <td>Saturday</td>\n",
              "      <td>2021-09-11T09:07:55.000</td>\n",
              "      <td>-148</td>\n",
              "      <td>{'type': 'Point', 'coordinates': [-97.10135948...</td>\n",
              "      <td>1</td>\n",
              "      <td>197</td>\n",
              "    </tr>\n",
              "  </tbody>\n",
              "</table>\n",
              "<p>100 rows × 11 columns</p>\n",
              "</div>"
            ],
            "text/plain": [
              "       row_id  ... :@computed_region_38v8_cedi\n",
              "0   857444741  ...                         180\n",
              "1   857444743  ...                         180\n",
              "2   857444745  ...                         180\n",
              "3   857444747  ...                          85\n",
              "4   857444749  ...                         197\n",
              "..        ...  ...                         ...\n",
              "95  857444938  ...                         197\n",
              "96  857444940  ...                         197\n",
              "97  857444942  ...                         197\n",
              "98  857444944  ...                         197\n",
              "99  857444946  ...                         197\n",
              "\n",
              "[100 rows x 11 columns]"
            ]
          },
          "metadata": {},
          "execution_count": 69
        }
      ]
    },
    {
      "cell_type": "code",
      "metadata": {
        "colab": {
          "base_uri": "https://localhost:8080/"
        },
        "id": "SaW7fSBSDJQp",
        "outputId": "e8cd12bc-9bb9-49fb-cc37-4d460018563d"
      },
      "source": [
        "results_df.columns"
      ],
      "execution_count": 70,
      "outputs": [
        {
          "output_type": "execute_result",
          "data": {
            "text/plain": [
              "Index(['row_id', 'stop_number', 'route_number', 'route_name',\n",
              "       'route_destination', 'day_type', 'scheduled_time', 'deviation',\n",
              "       'location', ':@computed_region_6rfj_69jf',\n",
              "       ':@computed_region_38v8_cedi'],\n",
              "      dtype='object')"
            ]
          },
          "metadata": {},
          "execution_count": 70
        }
      ]
    },
    {
      "cell_type": "code",
      "metadata": {
        "colab": {
          "base_uri": "https://localhost:8080/"
        },
        "id": "Kc-4iCFYDRoS",
        "outputId": "a2520e8b-3c61-45f3-86e7-09717c51462e"
      },
      "source": [
        "results_df['location']"
      ],
      "execution_count": 71,
      "outputs": [
        {
          "output_type": "execute_result",
          "data": {
            "text/plain": [
              "0     {'type': 'Point', 'coordinates': [-97.12005859...\n",
              "1     {'type': 'Point', 'coordinates': [-97.11703784...\n",
              "2     {'type': 'Point', 'coordinates': [-97.11540064...\n",
              "3     {'type': 'Point', 'coordinates': [-97.11465630...\n",
              "4     {'type': 'Point', 'coordinates': [-97.11434735...\n",
              "                            ...                        \n",
              "95    {'type': 'Point', 'coordinates': [-97.11434735...\n",
              "96    {'type': 'Point', 'coordinates': [-97.11064201...\n",
              "97    {'type': 'Point', 'coordinates': [-97.10754347...\n",
              "98    {'type': 'Point', 'coordinates': [-97.10407202...\n",
              "99    {'type': 'Point', 'coordinates': [-97.10135948...\n",
              "Name: location, Length: 100, dtype: object"
            ]
          },
          "metadata": {},
          "execution_count": 71
        }
      ]
    },
    {
      "cell_type": "code",
      "metadata": {
        "id": "uCsJ7VDxDvdh"
      },
      "source": [
        "results_df['latitude'] = [point['coordinates'][0] for point in results_df['location']]\n",
        "results_df['longitude'] = [point['coordinates'][1] for point in results_df['location']]"
      ],
      "execution_count": 72,
      "outputs": []
    },
    {
      "cell_type": "code",
      "metadata": {
        "colab": {
          "base_uri": "https://localhost:8080/"
        },
        "id": "_NaXymf1D555",
        "outputId": "0684ac8c-301b-4b81-d815-d50ed958157e"
      },
      "source": [
        "results_df['latitude']"
      ],
      "execution_count": 73,
      "outputs": [
        {
          "output_type": "execute_result",
          "data": {
            "text/plain": [
              "0    -97.120059\n",
              "1    -97.117038\n",
              "2    -97.115401\n",
              "3    -97.114656\n",
              "4    -97.114347\n",
              "        ...    \n",
              "95   -97.114347\n",
              "96   -97.110642\n",
              "97   -97.107543\n",
              "98   -97.104072\n",
              "99   -97.101359\n",
              "Name: latitude, Length: 100, dtype: float64"
            ]
          },
          "metadata": {},
          "execution_count": 73
        }
      ]
    },
    {
      "cell_type": "code",
      "metadata": {
        "colab": {
          "base_uri": "https://localhost:8080/"
        },
        "id": "aSZxUOqwEEkM",
        "outputId": "0480636f-dacc-4437-953a-9e67a3cf7ef6"
      },
      "source": [
        "results_df['longitude']"
      ],
      "execution_count": 74,
      "outputs": [
        {
          "output_type": "execute_result",
          "data": {
            "text/plain": [
              "0     49.902170\n",
              "1     49.901779\n",
              "2     49.902337\n",
              "3     49.903926\n",
              "4     49.908634\n",
              "        ...    \n",
              "95    49.908634\n",
              "96    49.907575\n",
              "97    49.907030\n",
              "98    49.906407\n",
              "99    49.905967\n",
              "Name: longitude, Length: 100, dtype: float64"
            ]
          },
          "metadata": {},
          "execution_count": 74
        }
      ]
    },
    {
      "cell_type": "code",
      "metadata": {
        "id": "zTsr-APA730J"
      },
      "source": [
        "from geopy.geocoders import Nominatim"
      ],
      "execution_count": 37,
      "outputs": []
    },
    {
      "cell_type": "code",
      "metadata": {
        "id": "9acdQ17676NS"
      },
      "source": [
        "# create the locator\n",
        "geolocator = Nominatim(user_agent=\"myGeocoder\")"
      ],
      "execution_count": 38,
      "outputs": []
    },
    {
      "cell_type": "code",
      "metadata": {
        "id": "o9QbqQ--78Xh"
      },
      "source": [
        "# getting the location address\n",
        "location = geolocator.reverse(\"49.848606535074, -97.166249398091\")"
      ],
      "execution_count": 50,
      "outputs": []
    },
    {
      "cell_type": "code",
      "metadata": {
        "colab": {
          "base_uri": "https://localhost:8080/"
        },
        "id": "zFOuqhQo8DgD",
        "outputId": "10d89f94-6550-4c54-829e-833b9f388c20"
      },
      "source": [
        "location"
      ],
      "execution_count": 51,
      "outputs": [
        {
          "output_type": "execute_result",
          "data": {
            "text/plain": [
              "Location(Beaumont Station, Southwest Transitway, Beaumont, River Heights–Fort Garry, Winnipeg, Manitoba, R3M 3Y7, Canada, (49.8486899, -97.16583533695267, 0.0))"
            ]
          },
          "metadata": {},
          "execution_count": 51
        }
      ]
    },
    {
      "cell_type": "code",
      "metadata": {
        "id": "d8AKw9TGCXx8"
      },
      "source": [
        "import folium"
      ],
      "execution_count": 52,
      "outputs": []
    },
    {
      "cell_type": "code",
      "metadata": {
        "id": "6VE7kAvnCa_c"
      },
      "source": [
        "# create the map.\n",
        "map_pickup = folium.Map( location=[49.848606535074,-97.166249398091])"
      ],
      "execution_count": 53,
      "outputs": []
    },
    {
      "cell_type": "code",
      "metadata": {
        "colab": {
          "base_uri": "https://localhost:8080/"
        },
        "id": "hprTQHj_CrAj",
        "outputId": "650e7c38-e2df-4ce7-8913-c553f08701be"
      },
      "source": [
        "# adding the latitude and longitude points to the map.\n",
        "results_df.apply(lambda row:folium.CircleMarker(location=[results_df[\"latitude\"], results_df[\"longitude\"]] ).add_to(map_pickup), axis=1)"
      ],
      "execution_count": 75,
      "outputs": [
        {
          "output_type": "execute_result",
          "data": {
            "text/plain": [
              "0     <folium.vector_layers.CircleMarker object at 0...\n",
              "1     <folium.vector_layers.CircleMarker object at 0...\n",
              "2     <folium.vector_layers.CircleMarker object at 0...\n",
              "3     <folium.vector_layers.CircleMarker object at 0...\n",
              "4     <folium.vector_layers.CircleMarker object at 0...\n",
              "                            ...                        \n",
              "95    <folium.vector_layers.CircleMarker object at 0...\n",
              "96    <folium.vector_layers.CircleMarker object at 0...\n",
              "97    <folium.vector_layers.CircleMarker object at 0...\n",
              "98    <folium.vector_layers.CircleMarker object at 0...\n",
              "99    <folium.vector_layers.CircleMarker object at 0...\n",
              "Length: 100, dtype: object"
            ]
          },
          "metadata": {},
          "execution_count": 75
        }
      ]
    },
    {
      "cell_type": "code",
      "metadata": {
        "id": "L_E5HYscCuZJ"
      },
      "source": [
        "# display the map\n",
        "map_pickup"
      ],
      "execution_count": 77,
      "outputs": []
    },
    {
      "cell_type": "code",
      "metadata": {
        "id": "n82wKBTWCzJQ"
      },
      "source": [
        "# optional: save the map.\n",
        "map_pickup.save('map_pickup.html')"
      ],
      "execution_count": 67,
      "outputs": []
    }
  ]
}
